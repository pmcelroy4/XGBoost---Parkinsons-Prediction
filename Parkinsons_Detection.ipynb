{
 "cells": [
  {
   "cell_type": "code",
   "execution_count": 51,
   "id": "e0353df0",
   "metadata": {},
   "outputs": [],
   "source": [
    "# Import necessary packages\n",
    "import numpy as np\n",
    "import pandas as pd\n",
    "import os, sys\n",
    "from sklearn.preprocessing import MinMaxScaler\n",
    "from xgboost import XGBClassifier\n",
    "from sklearn.model_selection import train_test_split\n",
    "from sklearn.metrics import accuracy_score, classification_report, confusion_matrix, ConfusionMatrixDisplay"
   ]
  },
  {
   "cell_type": "code",
   "execution_count": 41,
   "id": "9ab59856",
   "metadata": {},
   "outputs": [
    {
     "data": {
      "text/plain": [
       "(195, 24)"
      ]
     },
     "execution_count": 41,
     "metadata": {},
     "output_type": "execute_result"
    }
   ],
   "source": [
    "# Import data\n",
    "df = pd.read_csv(\"parkinsons.data\")\n",
    "df.head(5)\n",
    "df.shape"
   ]
  },
  {
   "cell_type": "code",
   "execution_count": 28,
   "id": "1b88a0a1",
   "metadata": {},
   "outputs": [],
   "source": [
    "# Get features and labels from the dataset\n",
    "features = df.loc[:, df.columns != \"status\"].values[:,1:]\n",
    "labels = df.loc[:, \"status\"].values"
   ]
  },
  {
   "cell_type": "code",
   "execution_count": 29,
   "id": "157ecc13",
   "metadata": {},
   "outputs": [
    {
     "name": "stdout",
     "output_type": "stream",
     "text": [
      "147 48\n"
     ]
    }
   ],
   "source": [
    "# Get counts of labels (1 or 0) to understand the distribution\n",
    "print(len(labels[labels == 1]), len(labels[labels ==0]))"
   ]
  },
  {
   "cell_type": "code",
   "execution_count": 30,
   "id": "b43abe8f",
   "metadata": {},
   "outputs": [],
   "source": [
    "# Scale features between -1 and 1\n",
    "scaler = MinMaxScaler((-1,1))\n",
    "x = scaler.fit_transform(features)\n",
    "y = labels"
   ]
  },
  {
   "cell_type": "code",
   "execution_count": 44,
   "id": "997f9f73",
   "metadata": {},
   "outputs": [],
   "source": [
    "# Split the data into training and test sets\n",
    "x_train, x_test, y_train, y_test = train_test_split(x, y, test_size = 0.2, random_state = 100)"
   ]
  },
  {
   "cell_type": "code",
   "execution_count": 48,
   "id": "f75f5c9d",
   "metadata": {},
   "outputs": [
    {
     "data": {
      "text/plain": [
       "XGBClassifier(base_score=0.5, booster='gbtree', callbacks=None,\n",
       "              colsample_bylevel=1, colsample_bynode=1, colsample_bytree=None,\n",
       "              device=None, early_stopping_rounds=None, enable_categorical=False,\n",
       "              eval_metric=None, feature_types=None, gamma=0, grow_policy=None,\n",
       "              importance_type=None, interaction_constraints=None,\n",
       "              learning_rate=0.1, max_bin=None, max_cat_threshold=None,\n",
       "              max_cat_to_onehot=None, max_delta_step=0, max_depth=3,\n",
       "              max_leaves=None, min_child_weight=1, missing=0,\n",
       "              monotone_constraints=None, multi_strategy=None, n_estimators=100,\n",
       "              n_jobs=1, n_thread=None, num_parallel_tree=None, ...)"
      ]
     },
     "execution_count": 48,
     "metadata": {},
     "output_type": "execute_result"
    }
   ],
   "source": [
    "# Create XGB Classifier Model to train the data\n",
    "model = XGBClassifier(base_score = 0.5, booster = 'gbtree', colsample_bylevel = 1, colsample_bynode = 1,\n",
    "                      gamma=0, learning_rate = 0.1, max_delta_step = 0, max_depth = 3,min_child_weight = 1,\n",
    "                      missing = 0, n_estimators = 100, n_jobs = 1, n_thread = None, \n",
    "                      objective = 'binary:logistic', random_state = 0, reg_alpha = 0, reg_lambda = 1,\n",
    "                      scale_pos_weight = 1,seed = None, silent = None, subsample = 1, verbosity = 1)\n",
    "model.fit(x_train, y_train)"
   ]
  },
  {
   "cell_type": "code",
   "execution_count": 57,
   "id": "58a6b1f8",
   "metadata": {},
   "outputs": [
    {
     "name": "stdout",
     "output_type": "stream",
     "text": [
      "Accuracy Score: 0.9230769230769231\n",
      "\n",
      "Classification Report: \n",
      "               precision    recall  f1-score   support\n",
      "\n",
      "           0       1.00      0.73      0.84        11\n",
      "           1       0.90      1.00      0.95        28\n",
      "\n",
      "    accuracy                           0.92        39\n",
      "   macro avg       0.95      0.86      0.90        39\n",
      "weighted avg       0.93      0.92      0.92        39\n",
      "\n"
     ]
    },
    {
     "data": {
      "text/plain": [
       "<sklearn.metrics._plot.confusion_matrix.ConfusionMatrixDisplay at 0x7f8a726fae80>"
      ]
     },
     "execution_count": 57,
     "metadata": {},
     "output_type": "execute_result"
    },
    {
     "data": {
      "image/png": "[encoded data removed]",
      "text/plain": [
       "<Figure size 640x480 with 2 Axes>"
      ]
     },
     "metadata": {},
     "output_type": "display_data"
    }
   ],
   "source": [
    "# Evaluate the model on the test set\n",
    "y_pred = model.predict(x_test)\n",
    "print(f'Accuracy Score: {accuracy_score(y_test, y_pred)}\\n')\n",
    "print(f'Classification Report: \\n {classification_report(y_test, y_pred)}')\n",
    "confusion = confusion_matrix(y_test, y_pred)\n",
    "disp = ConfusionMatrixDisplay(confusion)\n",
    "disp.plot()"
   ]
  },
  {
   "cell_type": "code",
   "execution_count": null,
   "id": "03659c02",
   "metadata": {},
   "outputs": [],
   "source": []
  }
 ],
 "metadata": {
  "kernelspec": {
   "display_name": "Python 3 (ipykernel)",
   "language": "python",
   "name": "python3"
  },
  "language_info": {
   "codemirror_mode": {
    "name": "ipython",
    "version": 3
   },
   "file_extension": ".py",
   "mimetype": "text/x-python",
   "name": "python",
   "nbconvert_exporter": "python",
   "pygments_lexer": "ipython3",
   "version": "3.9.18"
  }
 },
 "nbformat": 4,
 "nbformat_minor": 5
}
